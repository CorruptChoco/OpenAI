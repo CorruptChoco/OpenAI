{
 "cells": [
  {
   "cell_type": "code",
   "execution_count": 1,
   "metadata": {},
   "outputs": [
    {
     "name": "stderr",
     "output_type": "stream",
     "text": [
      "\n",
      "\n",
      "====== WebDriver manager ======\n",
      "Current google-chrome version is 108.0.5359\n",
      "Get LATEST chromedriver version for 108.0.5359 google-chrome\n",
      "Trying to download new driver from https://chromedriver.storage.googleapis.com/108.0.5359.71/chromedriver_win32.zip\n",
      "Driver has been saved in cache [C:\\Users\\rab_b\\.wdm\\drivers\\chromedriver\\win32\\108.0.5359.71]\n"
     ]
    }
   ],
   "source": [
    "from config import OpenAI_API\n",
    "from splinter import Browser\n",
    "from webdriver_manager.chrome import ChromeDriverManager\n",
    "import openai\n",
    "\n",
    "# Call ChromeDriverManager().install() once and store the path to the executable\n",
    "executable_path = ChromeDriverManager().install()\n",
    "\n",
    "# Set the OpenAI API key\n",
    "openai.api_key = OpenAI_API"
   ]
  },
  {
   "cell_type": "code",
   "execution_count": 2,
   "metadata": {},
   "outputs": [],
   "source": [
    "# Open the file .png and automatically close it when you're done reading it\n",
    "with open(\"Lobar.png\", \"rb\") as f:\n",
    "    image = f.read()\n",
    "\n",
    "# Generate variations of the image\n",
    "response = openai.Image.create_variation(image=image, n=10, size=\"512x512\")\n",
    "\n",
    "# Initialize the browser\n",
    "executable_path = {'executable_path': executable_path}\n",
    "browser = Browser('chrome', **executable_path, headless=False)\n",
    "\n",
    "# Iterate through the indices and elements of the response['data'] list\n",
    "for i, images in enumerate(response['data']):\n",
    "    image_url = response['data'][i]['url']\n",
    "    browser.visit(image_url)\n",
    "    # Open a new blank tab\n",
    "    browser.driver.execute_script(\"window.open('','_blank');\")\n",
    "    # Switch to the new tab\n",
    "    browser.driver.switch_to.window(browser.driver.window_handles[i + 1])\n",
    "\n",
    "# Close the last tab\n",
    "browser.windows[-1].close()\n"
   ]
  }
 ],
 "metadata": {
  "kernelspec": {
   "display_name": "base",
   "language": "python",
   "name": "python3"
  },
  "language_info": {
   "codemirror_mode": {
    "name": "ipython",
    "version": 3
   },
   "file_extension": ".py",
   "mimetype": "text/x-python",
   "name": "python",
   "nbconvert_exporter": "python",
   "pygments_lexer": "ipython3",
   "version": "3.9.7"
  },
  "orig_nbformat": 4,
  "vscode": {
   "interpreter": {
    "hash": "a141b5ff9140161ae2f0ff1e53d25b25d1bd5ccc57147b9f573da7c59c1b3e49"
   }
  }
 },
 "nbformat": 4,
 "nbformat_minor": 2
}
