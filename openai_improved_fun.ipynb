{
 "cells": [
  {
   "cell_type": "code",
   "execution_count": 4,
   "metadata": {},
   "outputs": [],
   "source": [
    "from config import OpenAI_API\n",
    "from splinter import Browser\n",
    "from selenium import webdriver\n",
    "from webdriver_manager.chrome import ChromeDriverManager\n",
    "import openai\n",
    "\n",
    "# Call ChromeDriverManager().install() once and store the path to the executable\n",
    "# executable_path = ChromeDriverManager().install()\n",
    "\n",
    "# Set the OpenAI API key\n",
    "openai.api_key = OpenAI_API"
   ]
  },
  {
   "cell_type": "code",
   "execution_count": 5,
   "metadata": {},
   "outputs": [
    {
     "ename": "InvalidRequestError",
     "evalue": "Billing hard limit has been reached",
     "output_type": "error",
     "traceback": [
      "\u001b[1;31m---------------------------------------------------------------------------\u001b[0m",
      "\u001b[1;31mInvalidRequestError\u001b[0m                       Traceback (most recent call last)",
      "\u001b[1;32mc:\\Users\\rab_b\\Documents\\OpenAI\\openai_improved_fun.ipynb Cell 2\u001b[0m in \u001b[0;36m<cell line: 2>\u001b[1;34m()\u001b[0m\n\u001b[0;32m      <a href='vscode-notebook-cell:/c%3A/Users/rab_b/Documents/OpenAI/openai_improved_fun.ipynb#W1sZmlsZQ%3D%3D?line=0'>1</a>\u001b[0m \u001b[39m# Create images based on the prompt\u001b[39;00m\n\u001b[1;32m----> <a href='vscode-notebook-cell:/c%3A/Users/rab_b/Documents/OpenAI/openai_improved_fun.ipynb#W1sZmlsZQ%3D%3D?line=1'>2</a>\u001b[0m response \u001b[39m=\u001b[39m openai\u001b[39m.\u001b[39;49mImage\u001b[39m.\u001b[39;49mcreate(\n\u001b[0;32m      <a href='vscode-notebook-cell:/c%3A/Users/rab_b/Documents/OpenAI/openai_improved_fun.ipynb#W1sZmlsZQ%3D%3D?line=2'>3</a>\u001b[0m   prompt\u001b[39m=\u001b[39;49m\u001b[39m\"\u001b[39;49m\u001b[39mA 5e D&D character portait of a rabiit folk with lavender and silver fur. He is a eldritch knight fighter who weilds a longsword and medium armor.\u001b[39;49m\u001b[39m\"\u001b[39;49m,\n\u001b[0;32m      <a href='vscode-notebook-cell:/c%3A/Users/rab_b/Documents/OpenAI/openai_improved_fun.ipynb#W1sZmlsZQ%3D%3D?line=3'>4</a>\u001b[0m   n\u001b[39m=\u001b[39;49m\u001b[39m5\u001b[39;49m,\n\u001b[0;32m      <a href='vscode-notebook-cell:/c%3A/Users/rab_b/Documents/OpenAI/openai_improved_fun.ipynb#W1sZmlsZQ%3D%3D?line=4'>5</a>\u001b[0m   size\u001b[39m=\u001b[39;49m\u001b[39m\"\u001b[39;49m\u001b[39m512x512\u001b[39;49m\u001b[39m\"\u001b[39;49m\n\u001b[0;32m      <a href='vscode-notebook-cell:/c%3A/Users/rab_b/Documents/OpenAI/openai_improved_fun.ipynb#W1sZmlsZQ%3D%3D?line=5'>6</a>\u001b[0m )\n\u001b[0;32m      <a href='vscode-notebook-cell:/c%3A/Users/rab_b/Documents/OpenAI/openai_improved_fun.ipynb#W1sZmlsZQ%3D%3D?line=7'>8</a>\u001b[0m \u001b[39m# Initialize the browser\u001b[39;00m\n\u001b[0;32m      <a href='vscode-notebook-cell:/c%3A/Users/rab_b/Documents/OpenAI/openai_improved_fun.ipynb#W1sZmlsZQ%3D%3D?line=8'>9</a>\u001b[0m \u001b[39m# executable_path = {'executable_path': executable_path}\u001b[39;00m\n\u001b[0;32m     <a href='vscode-notebook-cell:/c%3A/Users/rab_b/Documents/OpenAI/openai_improved_fun.ipynb#W1sZmlsZQ%3D%3D?line=9'>10</a>\u001b[0m \u001b[39m# browser = Browser('chrome', **executable_path, headless=False)\u001b[39;00m\n\u001b[0;32m     <a href='vscode-notebook-cell:/c%3A/Users/rab_b/Documents/OpenAI/openai_improved_fun.ipynb#W1sZmlsZQ%3D%3D?line=10'>11</a>\u001b[0m browser \u001b[39m=\u001b[39m webdriver\u001b[39m.\u001b[39mChrome()\n",
      "File \u001b[1;32mc:\\Users\\rab_b\\anaconda3\\lib\\site-packages\\openai\\api_resources\\image.py:22\u001b[0m, in \u001b[0;36mImage.create\u001b[1;34m(cls, **params)\u001b[0m\n\u001b[0;32m     16\u001b[0m \u001b[39m@classmethod\u001b[39m\n\u001b[0;32m     17\u001b[0m \u001b[39mdef\u001b[39;00m \u001b[39mcreate\u001b[39m(\n\u001b[0;32m     18\u001b[0m     \u001b[39mcls\u001b[39m,\n\u001b[0;32m     19\u001b[0m     \u001b[39m*\u001b[39m\u001b[39m*\u001b[39mparams,\n\u001b[0;32m     20\u001b[0m ):\n\u001b[0;32m     21\u001b[0m     instance \u001b[39m=\u001b[39m \u001b[39mcls\u001b[39m()\n\u001b[1;32m---> 22\u001b[0m     \u001b[39mreturn\u001b[39;00m instance\u001b[39m.\u001b[39;49mrequest(\u001b[39m\"\u001b[39;49m\u001b[39mpost\u001b[39;49m\u001b[39m\"\u001b[39;49m, \u001b[39mcls\u001b[39;49m\u001b[39m.\u001b[39;49m_get_url(\u001b[39m\"\u001b[39;49m\u001b[39mgenerations\u001b[39;49m\u001b[39m\"\u001b[39;49m), params)\n",
      "File \u001b[1;32mc:\\Users\\rab_b\\anaconda3\\lib\\site-packages\\openai\\openai_object.py:179\u001b[0m, in \u001b[0;36mOpenAIObject.request\u001b[1;34m(self, method, url, params, headers, stream, plain_old_data, request_id, request_timeout)\u001b[0m\n\u001b[0;32m    171\u001b[0m     params \u001b[39m=\u001b[39m \u001b[39mself\u001b[39m\u001b[39m.\u001b[39m_retrieve_params\n\u001b[0;32m    172\u001b[0m requestor \u001b[39m=\u001b[39m api_requestor\u001b[39m.\u001b[39mAPIRequestor(\n\u001b[0;32m    173\u001b[0m     key\u001b[39m=\u001b[39m\u001b[39mself\u001b[39m\u001b[39m.\u001b[39mapi_key,\n\u001b[0;32m    174\u001b[0m     api_base\u001b[39m=\u001b[39m\u001b[39mself\u001b[39m\u001b[39m.\u001b[39mapi_base_override \u001b[39mor\u001b[39;00m \u001b[39mself\u001b[39m\u001b[39m.\u001b[39mapi_base(),\n\u001b[1;32m   (...)\u001b[0m\n\u001b[0;32m    177\u001b[0m     organization\u001b[39m=\u001b[39m\u001b[39mself\u001b[39m\u001b[39m.\u001b[39morganization,\n\u001b[0;32m    178\u001b[0m )\n\u001b[1;32m--> 179\u001b[0m response, stream, api_key \u001b[39m=\u001b[39m requestor\u001b[39m.\u001b[39;49mrequest(\n\u001b[0;32m    180\u001b[0m     method,\n\u001b[0;32m    181\u001b[0m     url,\n\u001b[0;32m    182\u001b[0m     params\u001b[39m=\u001b[39;49mparams,\n\u001b[0;32m    183\u001b[0m     stream\u001b[39m=\u001b[39;49mstream,\n\u001b[0;32m    184\u001b[0m     headers\u001b[39m=\u001b[39;49mheaders,\n\u001b[0;32m    185\u001b[0m     request_id\u001b[39m=\u001b[39;49mrequest_id,\n\u001b[0;32m    186\u001b[0m     request_timeout\u001b[39m=\u001b[39;49mrequest_timeout,\n\u001b[0;32m    187\u001b[0m )\n\u001b[0;32m    189\u001b[0m \u001b[39mif\u001b[39;00m stream:\n\u001b[0;32m    190\u001b[0m     \u001b[39massert\u001b[39;00m \u001b[39mnot\u001b[39;00m \u001b[39misinstance\u001b[39m(response, OpenAIResponse)  \u001b[39m# must be an iterator\u001b[39;00m\n",
      "File \u001b[1;32mc:\\Users\\rab_b\\anaconda3\\lib\\site-packages\\openai\\api_requestor.py:181\u001b[0m, in \u001b[0;36mAPIRequestor.request\u001b[1;34m(self, method, url, params, headers, files, stream, request_id, request_timeout)\u001b[0m\n\u001b[0;32m    160\u001b[0m \u001b[39mdef\u001b[39;00m \u001b[39mrequest\u001b[39m(\n\u001b[0;32m    161\u001b[0m     \u001b[39mself\u001b[39m,\n\u001b[0;32m    162\u001b[0m     method,\n\u001b[1;32m   (...)\u001b[0m\n\u001b[0;32m    169\u001b[0m     request_timeout: Optional[Union[\u001b[39mfloat\u001b[39m, Tuple[\u001b[39mfloat\u001b[39m, \u001b[39mfloat\u001b[39m]]] \u001b[39m=\u001b[39m \u001b[39mNone\u001b[39;00m,\n\u001b[0;32m    170\u001b[0m ) \u001b[39m-\u001b[39m\u001b[39m>\u001b[39m Tuple[Union[OpenAIResponse, Iterator[OpenAIResponse]], \u001b[39mbool\u001b[39m, \u001b[39mstr\u001b[39m]:\n\u001b[0;32m    171\u001b[0m     result \u001b[39m=\u001b[39m \u001b[39mself\u001b[39m\u001b[39m.\u001b[39mrequest_raw(\n\u001b[0;32m    172\u001b[0m         method\u001b[39m.\u001b[39mlower(),\n\u001b[0;32m    173\u001b[0m         url,\n\u001b[1;32m   (...)\u001b[0m\n\u001b[0;32m    179\u001b[0m         request_timeout\u001b[39m=\u001b[39mrequest_timeout,\n\u001b[0;32m    180\u001b[0m     )\n\u001b[1;32m--> 181\u001b[0m     resp, got_stream \u001b[39m=\u001b[39m \u001b[39mself\u001b[39;49m\u001b[39m.\u001b[39;49m_interpret_response(result, stream)\n\u001b[0;32m    182\u001b[0m     \u001b[39mreturn\u001b[39;00m resp, got_stream, \u001b[39mself\u001b[39m\u001b[39m.\u001b[39mapi_key\n",
      "File \u001b[1;32mc:\\Users\\rab_b\\anaconda3\\lib\\site-packages\\openai\\api_requestor.py:396\u001b[0m, in \u001b[0;36mAPIRequestor._interpret_response\u001b[1;34m(self, result, stream)\u001b[0m\n\u001b[0;32m    388\u001b[0m     \u001b[39mreturn\u001b[39;00m (\n\u001b[0;32m    389\u001b[0m         \u001b[39mself\u001b[39m\u001b[39m.\u001b[39m_interpret_response_line(\n\u001b[0;32m    390\u001b[0m             line, result\u001b[39m.\u001b[39mstatus_code, result\u001b[39m.\u001b[39mheaders, stream\u001b[39m=\u001b[39m\u001b[39mTrue\u001b[39;00m\n\u001b[0;32m    391\u001b[0m         )\n\u001b[0;32m    392\u001b[0m         \u001b[39mfor\u001b[39;00m line \u001b[39min\u001b[39;00m parse_stream(result\u001b[39m.\u001b[39miter_lines())\n\u001b[0;32m    393\u001b[0m     ), \u001b[39mTrue\u001b[39;00m\n\u001b[0;32m    394\u001b[0m \u001b[39melse\u001b[39;00m:\n\u001b[0;32m    395\u001b[0m     \u001b[39mreturn\u001b[39;00m (\n\u001b[1;32m--> 396\u001b[0m         \u001b[39mself\u001b[39;49m\u001b[39m.\u001b[39;49m_interpret_response_line(\n\u001b[0;32m    397\u001b[0m             result\u001b[39m.\u001b[39;49mcontent, result\u001b[39m.\u001b[39;49mstatus_code, result\u001b[39m.\u001b[39;49mheaders, stream\u001b[39m=\u001b[39;49m\u001b[39mFalse\u001b[39;49;00m\n\u001b[0;32m    398\u001b[0m         ),\n\u001b[0;32m    399\u001b[0m         \u001b[39mFalse\u001b[39;00m,\n\u001b[0;32m    400\u001b[0m     )\n",
      "File \u001b[1;32mc:\\Users\\rab_b\\anaconda3\\lib\\site-packages\\openai\\api_requestor.py:429\u001b[0m, in \u001b[0;36mAPIRequestor._interpret_response_line\u001b[1;34m(self, rbody, rcode, rheaders, stream)\u001b[0m\n\u001b[0;32m    427\u001b[0m stream_error \u001b[39m=\u001b[39m stream \u001b[39mand\u001b[39;00m \u001b[39m\"\u001b[39m\u001b[39merror\u001b[39m\u001b[39m\"\u001b[39m \u001b[39min\u001b[39;00m resp\u001b[39m.\u001b[39mdata\n\u001b[0;32m    428\u001b[0m \u001b[39mif\u001b[39;00m stream_error \u001b[39mor\u001b[39;00m \u001b[39mnot\u001b[39;00m \u001b[39m200\u001b[39m \u001b[39m<\u001b[39m\u001b[39m=\u001b[39m rcode \u001b[39m<\u001b[39m \u001b[39m300\u001b[39m:\n\u001b[1;32m--> 429\u001b[0m     \u001b[39mraise\u001b[39;00m \u001b[39mself\u001b[39m\u001b[39m.\u001b[39mhandle_error_response(\n\u001b[0;32m    430\u001b[0m         rbody, rcode, resp\u001b[39m.\u001b[39mdata, rheaders, stream_error\u001b[39m=\u001b[39mstream_error\n\u001b[0;32m    431\u001b[0m     )\n\u001b[0;32m    432\u001b[0m \u001b[39mreturn\u001b[39;00m resp\n",
      "\u001b[1;31mInvalidRequestError\u001b[0m: Billing hard limit has been reached"
     ]
    }
   ],
   "source": [
    "# Create images based on the prompt\n",
    "response = openai.Image.create(\n",
    "  prompt=\"A 5e D&D character portait of a rabiit folk with lavender and silver fur. He is a eldritch knight fighter who weilds a longsword and medium armor.\",\n",
    "  n=5,\n",
    "  size=\"512x512\"\n",
    ")\n",
    "\n",
    "# Initialize the browser\n",
    "# executable_path = {'executable_path': executable_path}\n",
    "# browser = Browser('chrome', **executable_path, headless=False)\n",
    "browser = webdriver.Chrome()\n",
    "\n",
    "# Iterate through the indices and elements of the response['data'] list\n",
    "for i, images in enumerate(response['data']):\n",
    "    image_url = response['data'][i]['url']\n",
    "    browser.visit(image_url)\n",
    "    # Open a new blank tab\n",
    "    browser.driver.execute_script(\"window.open('','_blank');\")\n",
    "    # Switch to the new tab\n",
    "    browser.driver.switch_to.window(browser.driver.window_handles[i + 1])\n",
    "\n",
    "# Close the last tab\n",
    "browser.windows[-1].close()\n"
   ]
  }
 ],
 "metadata": {
  "kernelspec": {
   "display_name": "base",
   "language": "python",
   "name": "python3"
  },
  "language_info": {
   "codemirror_mode": {
    "name": "ipython",
    "version": 3
   },
   "file_extension": ".py",
   "mimetype": "text/x-python",
   "name": "python",
   "nbconvert_exporter": "python",
   "pygments_lexer": "ipython3",
   "version": "3.9.7"
  },
  "orig_nbformat": 4,
  "vscode": {
   "interpreter": {
    "hash": "a141b5ff9140161ae2f0ff1e53d25b25d1bd5ccc57147b9f573da7c59c1b3e49"
   }
  }
 },
 "nbformat": 4,
 "nbformat_minor": 2
}
